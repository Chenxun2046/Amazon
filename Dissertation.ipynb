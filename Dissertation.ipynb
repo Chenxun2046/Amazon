{
 "cells": [
  {
   "cell_type": "markdown",
   "metadata": {},
   "source": [
    "#  Importing data\n"
   ]
  },
  {
   "cell_type": "code",
   "execution_count": 3,
   "metadata": {},
   "outputs": [],
   "source": [
    "import pandas as pd\n",
    "import gzip\n",
    "import json\n",
    "\n",
    "def parse(path):\n",
    "  g = gzip.open(path, 'rb')\n",
    "  for l in g:\n",
    "    yield json.loads(l)\n",
    "\n",
    "def getDF(path):\n",
    "  i = 0\n",
    "  df = {}\n",
    "  for d in parse(path):\n",
    "    df[i] = d\n",
    "    i += 1\n",
    "  return pd.DataFrame.from_dict(df, orient='index')\n",
    "\n",
    "fullset = getDF('D:\\Download\\AMAZON_FASHION_1.json.gz')"
   ]
  },
  {
   "cell_type": "code",
   "execution_count": 4,
   "metadata": {},
   "outputs": [],
   "source": [
    "# Packages\n",
    "from time import time\n",
    "import re\n",
    "import os\n",
    "import nltk\n",
    "import numpy as np\n",
    "import multiprocessing as mp\n",
    "import pandas as pd\n",
    "import matplotlib.pyplot as plt\n",
    "import seaborn as sns\n",
    "from scipy import stats\n",
    "from tqdm import tqdm\n",
    "import pickle\n",
    "import string\n",
    "\n",
    "from nltk.tokenize import TweetTokenizer\n",
    "from nltk.tokenize import sent_tokenize\n",
    "from nltk.tokenize import word_tokenize\n",
    "from nltk.corpus import stopwords\n",
    "from string import punctuation\n",
    "from nltk.stem.porter import PorterStemmer\n",
    "from emoji import demojize\n",
    "from gensim.models import Word2Vec\n",
    "from nltk.stem import WordNetLemmatizer\n",
    "from nltk import pos_tag\n",
    "from nltk import wordnet\n",
    "\n",
    "\n",
    "from sklearn.feature_extraction.text import CountVectorizer, TfidfVectorizer\n",
    "from sklearn.model_selection import cross_val_score\n",
    "from sklearn import naive_bayes, svm, linear_model\n",
    "from sklearn.model_selection import train_test_split, cross_val_score\n",
    "from sklearn.metrics import accuracy_score, recall_score, precision_score, roc_auc_score, f1_score, confusion_matrix, roc_curve"
   ]
  },
  {
   "cell_type": "code",
   "execution_count": 5,
   "metadata": {},
   "outputs": [],
   "source": [
    "# Settings\n",
    "sns.set_context('notebook') \n",
    "sns.set_style('ticks') \n",
    "colours = ['#1F77B4', '#FF7F0E', '#2CA02C', '#DB2728', '#9467BD', '#8C564B', '#E377C2','#7F7F7F', '#BCBD22', '#17BECF']\n",
    "crayon = ['#4E79A7','#F28E2C','#E15759','#76B7B2','#59A14F', '#EDC949','#AF7AA1','#FF9DA7','#9C755F','#BAB0AB']\n",
    "sns.set_palette(colours)\n",
    "%matplotlib inline\n",
    "plt.rcParams['figure.figsize'] = (9, 6)\n",
    "#tqdm.pandas(desc=\"Progress bar\")\n",
    "Tokenizer = TweetTokenizer()\n",
    "cores = mp.cpu_count()\n",
    "\n",
    "import warnings\n",
    "warnings.filterwarnings('ignore')"
   ]
  },
  {
   "cell_type": "code",
   "execution_count": 6,
   "metadata": {},
   "outputs": [],
   "source": [
    "def _apply_df(args):\n",
    "    df, func, kwargs = args\n",
    "    return df.progress_apply(func, **kwargs)\n",
    "\n",
    "def multi_apply(df, func, **kwargs):\n",
    "    workers = kwargs.pop('workers')\n",
    "    pool = mp.Pool(processes=workers)\n",
    "    result = pool.map(_apply_df, [(d, func, kwargs) for d in np.array_split(df, workers)])\n",
    "    pool.close()\n",
    "    return pd.concat(list(result))"
   ]
  },
  {
   "cell_type": "code",
   "execution_count": 7,
   "metadata": {},
   "outputs": [],
   "source": [
    "fullset['polarity'] = fullset.overall.apply(lambda x: 1 if x>= 3.0 else -1)"
   ]
  },
  {
   "cell_type": "code",
   "execution_count": 8,
   "metadata": {},
   "outputs": [],
   "source": [
    "# Merge title and content\n",
    "fullset['Text'] = fullset['reviewText']+' '+fullset['summary']\n",
    "fullset = fullset.drop(columns=['reviewText','summary'])"
   ]
  },
  {
   "cell_type": "code",
   "execution_count": 9,
   "metadata": {},
   "outputs": [],
   "source": [
    "fullset.to_csv('fullset.csv')\n",
    "fullset = pd.read_csv('fullset.csv',usecols=['Text','reviewerID','polarity'])"
   ]
  },
  {
   "cell_type": "code",
   "execution_count": 10,
   "metadata": {},
   "outputs": [
    {
     "data": {
      "text/html": [
       "<div>\n",
       "<style scoped>\n",
       "    .dataframe tbody tr th:only-of-type {\n",
       "        vertical-align: middle;\n",
       "    }\n",
       "\n",
       "    .dataframe tbody tr th {\n",
       "        vertical-align: top;\n",
       "    }\n",
       "\n",
       "    .dataframe thead th {\n",
       "        text-align: right;\n",
       "    }\n",
       "</style>\n",
       "<table border=\"1\" class=\"dataframe\">\n",
       "  <thead>\n",
       "    <tr style=\"text-align: right;\">\n",
       "      <th></th>\n",
       "      <th>reviewerID</th>\n",
       "      <th>polarity</th>\n",
       "      <th>Text</th>\n",
       "    </tr>\n",
       "  </thead>\n",
       "  <tbody>\n",
       "    <tr>\n",
       "      <th>883631</th>\n",
       "      <td>A1ZSB2Q144UTEY</td>\n",
       "      <td>1</td>\n",
       "      <td>I absolutely love this dress!!  It's sexy and ...</td>\n",
       "    </tr>\n",
       "    <tr>\n",
       "      <th>883632</th>\n",
       "      <td>A2CCDV0J5VB6F2</td>\n",
       "      <td>1</td>\n",
       "      <td>I'm 5'6 175lbs. I'm on the tall side. I wear a...</td>\n",
       "    </tr>\n",
       "    <tr>\n",
       "      <th>883633</th>\n",
       "      <td>A3O90PACS7B61K</td>\n",
       "      <td>1</td>\n",
       "      <td>Too big in the chest area! Three Stars</td>\n",
       "    </tr>\n",
       "    <tr>\n",
       "      <th>883634</th>\n",
       "      <td>A2HO94I89U3LNH</td>\n",
       "      <td>1</td>\n",
       "      <td>Too clear in the back, needs lining Three Stars</td>\n",
       "    </tr>\n",
       "    <tr>\n",
       "      <th>883635</th>\n",
       "      <td>A2RSX9E79DUHRX</td>\n",
       "      <td>1</td>\n",
       "      <td>Ordered and was slightly small. Worked with th...</td>\n",
       "    </tr>\n",
       "  </tbody>\n",
       "</table>\n",
       "</div>"
      ],
      "text/plain": [
       "            reviewerID  polarity  \\\n",
       "883631  A1ZSB2Q144UTEY         1   \n",
       "883632  A2CCDV0J5VB6F2         1   \n",
       "883633  A3O90PACS7B61K         1   \n",
       "883634  A2HO94I89U3LNH         1   \n",
       "883635  A2RSX9E79DUHRX         1   \n",
       "\n",
       "                                                     Text  \n",
       "883631  I absolutely love this dress!!  It's sexy and ...  \n",
       "883632  I'm 5'6 175lbs. I'm on the tall side. I wear a...  \n",
       "883633             Too big in the chest area! Three Stars  \n",
       "883634    Too clear in the back, needs lining Three Stars  \n",
       "883635  Ordered and was slightly small. Worked with th...  "
      ]
     },
     "execution_count": 10,
     "metadata": {},
     "output_type": "execute_result"
    }
   ],
   "source": [
    "fullset.tail()\n"
   ]
  },
  {
   "cell_type": "markdown",
   "metadata": {},
   "source": [
    "# Data Preprocessing"
   ]
  },
  {
   "cell_type": "code",
   "execution_count": 11,
   "metadata": {},
   "outputs": [],
   "source": [
    "# fullset=fullset[~fullset['polarity'].isin(['neutral'])]"
   ]
  },
  {
   "cell_type": "code",
   "execution_count": 12,
   "metadata": {},
   "outputs": [
    {
     "data": {
      "text/plain": [
       " 1    711838\n",
       "-1    171798\n",
       "Name: polarity, dtype: int64"
      ]
     },
     "execution_count": 12,
     "metadata": {},
     "output_type": "execute_result"
    }
   ],
   "source": [
    "fullset['polarity'].value_counts()"
   ]
  },
  {
   "cell_type": "code",
   "execution_count": 13,
   "metadata": {},
   "outputs": [],
   "source": [
    "#Lower case\n",
    "\n",
    "fullset['Text'] = fullset['Text'].apply(str)\n",
    "fullset['Text'] = fullset['Text'].apply(lambda x :x.lower())\n",
    "fullset['Text'] = fullset['Text'].apply(lambda x :re.sub('[%s]' % re.escape(string.punctuation), '', x))"
   ]
  },
  {
   "cell_type": "code",
   "execution_count": 14,
   "metadata": {},
   "outputs": [],
   "source": [
    "# def get_wordnet_pos(tag):\n",
    "#     if tag.startswith('J'):\n",
    "#         return wordnet.ADJ\n",
    "#     elif tag.startswith('V'):\n",
    "#         return wordnet.VERB\n",
    "#     elif tag.startswith('N'):\n",
    "#         return wordnet.NOUN\n",
    "#     elif tag.startswith('R'):\n",
    "#         return wordnet.ADV\n",
    "#     else:\n",
    "#         return None"
   ]
  },
  {
   "cell_type": "code",
   "execution_count": 15,
   "metadata": {},
   "outputs": [],
   "source": [
    "fullset['tokens'] = fullset.Text.apply(lambda x: word_tokenize(x))#Tokenization\n",
    "# fullset['tagged_sent'] = fullset.tokens.apply(lambda x:pos_tag(x))#pos_tag 词性获取"
   ]
  },
  {
   "cell_type": "code",
   "execution_count": 16,
   "metadata": {},
   "outputs": [],
   "source": [
    "#Lemmatization\n",
    "wnl = WordNetLemmatizer()\n",
    "def lem(token):\n",
    "    return [wnl.lemmatize(x) for x in token]\n",
    "\n",
    "fullset.tokens = fullset.tokens.apply(lem)"
   ]
  },
  {
   "cell_type": "code",
   "execution_count": 17,
   "metadata": {},
   "outputs": [
    {
     "data": {
      "text/plain": [
       "count    171798.0\n",
       "mean        169.0\n",
       "std         179.0\n",
       "min           1.0\n",
       "50%         120.0\n",
       "95%         481.0\n",
       "99%         843.0\n",
       "max        4543.0\n",
       "Name: Text, dtype: float64"
      ]
     },
     "execution_count": 17,
     "metadata": {},
     "output_type": "execute_result"
    }
   ],
   "source": [
    "# Negative sentence length\n",
    "(fullset[fullset.polarity==-1]['Text'].apply(len)).describe(percentiles=[.95, .99]).round(0)"
   ]
  },
  {
   "cell_type": "code",
   "execution_count": 18,
   "metadata": {},
   "outputs": [
    {
     "data": {
      "text/plain": [
       "count    711838.0\n",
       "mean        164.0\n",
       "std         208.0\n",
       "min           1.0\n",
       "50%         100.0\n",
       "95%         506.0\n",
       "99%        1010.0\n",
       "max       10490.0\n",
       "Name: Text, dtype: float64"
      ]
     },
     "execution_count": 18,
     "metadata": {},
     "output_type": "execute_result"
    }
   ],
   "source": [
    "# Positive sentence length\n",
    "(fullset[fullset.polarity== 1]['Text'].apply(len)).describe(percentiles=[.95, .99]).round(0)"
   ]
  },
  {
   "cell_type": "code",
   "execution_count": 19,
   "metadata": {},
   "outputs": [],
   "source": [
    "stopwordls = stopwords.words('english')"
   ]
  },
  {
   "cell_type": "code",
   "execution_count": 20,
   "metadata": {},
   "outputs": [],
   "source": [
    "def rmstopword(token):\n",
    "    return [x for x in token if x not in stopwordls]"
   ]
  },
  {
   "cell_type": "code",
   "execution_count": 21,
   "metadata": {},
   "outputs": [],
   "source": [
    "# Remove stopwords\n",
    "fullset.tokens = fullset.tokens.apply(rmstopword)"
   ]
  },
  {
   "cell_type": "code",
   "execution_count": 22,
   "metadata": {},
   "outputs": [
    {
     "data": {
      "text/html": [
       "<div>\n",
       "<style scoped>\n",
       "    .dataframe tbody tr th:only-of-type {\n",
       "        vertical-align: middle;\n",
       "    }\n",
       "\n",
       "    .dataframe tbody tr th {\n",
       "        vertical-align: top;\n",
       "    }\n",
       "\n",
       "    .dataframe thead th {\n",
       "        text-align: right;\n",
       "    }\n",
       "</style>\n",
       "<table border=\"1\" class=\"dataframe\">\n",
       "  <thead>\n",
       "    <tr style=\"text-align: right;\">\n",
       "      <th></th>\n",
       "      <th>reviewerID</th>\n",
       "      <th>polarity</th>\n",
       "      <th>Text</th>\n",
       "      <th>tokens</th>\n",
       "    </tr>\n",
       "  </thead>\n",
       "  <tbody>\n",
       "    <tr>\n",
       "      <th>883631</th>\n",
       "      <td>A1ZSB2Q144UTEY</td>\n",
       "      <td>1</td>\n",
       "      <td>i absolutely love this dress  its sexy and com...</td>\n",
       "      <td>[absolutely, love, dress, sexy, comfortable, s...</td>\n",
       "    </tr>\n",
       "    <tr>\n",
       "      <th>883632</th>\n",
       "      <td>A2CCDV0J5VB6F2</td>\n",
       "      <td>1</td>\n",
       "      <td>im 56 175lbs im on the tall side i wear a larg...</td>\n",
       "      <td>[im, 56, 175lbs, im, tall, side, wear, large, ...</td>\n",
       "    </tr>\n",
       "    <tr>\n",
       "      <th>883633</th>\n",
       "      <td>A3O90PACS7B61K</td>\n",
       "      <td>1</td>\n",
       "      <td>too big in the chest area three stars</td>\n",
       "      <td>[big, chest, area, three, star]</td>\n",
       "    </tr>\n",
       "    <tr>\n",
       "      <th>883634</th>\n",
       "      <td>A2HO94I89U3LNH</td>\n",
       "      <td>1</td>\n",
       "      <td>too clear in the back needs lining three stars</td>\n",
       "      <td>[clear, back, need, lining, three, star]</td>\n",
       "    </tr>\n",
       "    <tr>\n",
       "      <th>883635</th>\n",
       "      <td>A2RSX9E79DUHRX</td>\n",
       "      <td>1</td>\n",
       "      <td>ordered and was slightly small worked with the...</td>\n",
       "      <td>[ordered, wa, slightly, small, worked, company...</td>\n",
       "    </tr>\n",
       "  </tbody>\n",
       "</table>\n",
       "</div>"
      ],
      "text/plain": [
       "            reviewerID  polarity  \\\n",
       "883631  A1ZSB2Q144UTEY         1   \n",
       "883632  A2CCDV0J5VB6F2         1   \n",
       "883633  A3O90PACS7B61K         1   \n",
       "883634  A2HO94I89U3LNH         1   \n",
       "883635  A2RSX9E79DUHRX         1   \n",
       "\n",
       "                                                     Text  \\\n",
       "883631  i absolutely love this dress  its sexy and com...   \n",
       "883632  im 56 175lbs im on the tall side i wear a larg...   \n",
       "883633              too big in the chest area three stars   \n",
       "883634     too clear in the back needs lining three stars   \n",
       "883635  ordered and was slightly small worked with the...   \n",
       "\n",
       "                                                   tokens  \n",
       "883631  [absolutely, love, dress, sexy, comfortable, s...  \n",
       "883632  [im, 56, 175lbs, im, tall, side, wear, large, ...  \n",
       "883633                    [big, chest, area, three, star]  \n",
       "883634           [clear, back, need, lining, three, star]  \n",
       "883635  [ordered, wa, slightly, small, worked, company...  "
      ]
     },
     "execution_count": 22,
     "metadata": {},
     "output_type": "execute_result"
    }
   ],
   "source": [
    "fullset.tail()"
   ]
  },
  {
   "cell_type": "code",
   "execution_count": 23,
   "metadata": {},
   "outputs": [],
   "source": [
    "fdist = nltk.FreqDist()\n",
    "\n",
    "for i in fullset['tokens']:\n",
    "    for word in i:\n",
    "        fdist[word] += 1\n"
   ]
  },
  {
   "cell_type": "code",
   "execution_count": 24,
   "metadata": {},
   "outputs": [
    {
     "data": {
      "text/plain": [
       "[('star', 325417),\n",
       " ('wa', 276164),\n",
       " ('fit', 248222),\n",
       " ('love', 230657),\n",
       " ('great', 225236),\n",
       " ('like', 181609),\n",
       " ('five', 178088),\n",
       " ('size', 177490),\n",
       " ('one', 138303),\n",
       " ('look', 137459),\n",
       " ('good', 136434),\n",
       " ('small', 135868),\n",
       " ('nice', 128968),\n",
       " ('wear', 112979),\n",
       " ('quality', 112281),\n",
       " ('would', 105355),\n",
       " ('cute', 100823),\n",
       " ('well', 92573),\n",
       " ('perfect', 90435),\n",
       " ('little', 87510)]"
      ]
     },
     "execution_count": 24,
     "metadata": {},
     "output_type": "execute_result"
    }
   ],
   "source": [
    "fdist.most_common(20)"
   ]
  },
  {
   "cell_type": "code",
   "execution_count": 25,
   "metadata": {},
   "outputs": [
    {
     "data": {
      "text/plain": [
       "142324"
      ]
     },
     "execution_count": 25,
     "metadata": {},
     "output_type": "execute_result"
    }
   ],
   "source": [
    "# How many UNIQUE words\n",
    "len(fdist)"
   ]
  },
  {
   "cell_type": "code",
   "execution_count": 26,
   "metadata": {},
   "outputs": [
    {
     "data": {
      "image/png": "[encoded data removed]",
      "text/plain": [
       "<Figure size 648x432 with 1 Axes>"
      ]
     },
     "metadata": {
      "needs_background": "light"
     },
     "output_type": "display_data"
    },
    {
     "data": {
      "text/plain": [
       "<matplotlib.axes._subplots.AxesSubplot at 0x2c29d934148>"
      ]
     },
     "execution_count": 26,
     "metadata": {},
     "output_type": "execute_result"
    }
   ],
   "source": [
    "fdist.plot(30)"
   ]
  },
  {
   "cell_type": "code",
   "execution_count": 27,
   "metadata": {},
   "outputs": [],
   "source": [
    "with open('fullset_resplit_rmonce_nostopword.pickle', 'wb') as f:\n",
    "    pickle.dump(fullset, f, -1)"
   ]
  },
  {
   "cell_type": "markdown",
   "metadata": {},
   "source": [
    "# Feature Engineering"
   ]
  },
  {
   "cell_type": "code",
   "execution_count": 28,
   "metadata": {},
   "outputs": [],
   "source": [
    "with open('fullset_resplit_rmonce_nostopword.pickle', 'rb') as f:\n",
    "    fullset = pickle.load(f)"
   ]
  },
  {
   "cell_type": "code",
   "execution_count": 29,
   "metadata": {},
   "outputs": [],
   "source": [
    "fullset.tokens = fullset.tokens.astype('str')"
   ]
  },
  {
   "cell_type": "code",
   "execution_count": 30,
   "metadata": {},
   "outputs": [
    {
     "data": {
      "text/html": [
       "<div>\n",
       "<style scoped>\n",
       "    .dataframe tbody tr th:only-of-type {\n",
       "        vertical-align: middle;\n",
       "    }\n",
       "\n",
       "    .dataframe tbody tr th {\n",
       "        vertical-align: top;\n",
       "    }\n",
       "\n",
       "    .dataframe thead th {\n",
       "        text-align: right;\n",
       "    }\n",
       "</style>\n",
       "<table border=\"1\" class=\"dataframe\">\n",
       "  <thead>\n",
       "    <tr style=\"text-align: right;\">\n",
       "      <th></th>\n",
       "      <th>tokens</th>\n",
       "      <th>polarity</th>\n",
       "    </tr>\n",
       "  </thead>\n",
       "  <tbody>\n",
       "    <tr>\n",
       "      <th>0</th>\n",
       "      <td>['exactly', 'needed', 'perfect', 'replacement']</td>\n",
       "      <td>1</td>\n",
       "    </tr>\n",
       "    <tr>\n",
       "      <th>1</th>\n",
       "      <td>['agree', 'review', 'opening', 'small', 'almos...</td>\n",
       "      <td>-1</td>\n",
       "    </tr>\n",
       "    <tr>\n",
       "      <th>2</th>\n",
       "      <td>['love', 'going', 'order', 'another', 'pack', ...</td>\n",
       "      <td>1</td>\n",
       "    </tr>\n",
       "    <tr>\n",
       "      <th>3</th>\n",
       "      <td>['tiny', 'opening', 'two', 'star']</td>\n",
       "      <td>-1</td>\n",
       "    </tr>\n",
       "    <tr>\n",
       "      <th>4</th>\n",
       "      <td>['okay', 'three', 'star']</td>\n",
       "      <td>1</td>\n",
       "    </tr>\n",
       "    <tr>\n",
       "      <th>...</th>\n",
       "      <td>...</td>\n",
       "      <td>...</td>\n",
       "    </tr>\n",
       "    <tr>\n",
       "      <th>883631</th>\n",
       "      <td>['absolutely', 'love', 'dress', 'sexy', 'comfo...</td>\n",
       "      <td>1</td>\n",
       "    </tr>\n",
       "    <tr>\n",
       "      <th>883632</th>\n",
       "      <td>['im', '56', '175lbs', 'im', 'tall', 'side', '...</td>\n",
       "      <td>1</td>\n",
       "    </tr>\n",
       "    <tr>\n",
       "      <th>883633</th>\n",
       "      <td>['big', 'chest', 'area', 'three', 'star']</td>\n",
       "      <td>1</td>\n",
       "    </tr>\n",
       "    <tr>\n",
       "      <th>883634</th>\n",
       "      <td>['clear', 'back', 'need', 'lining', 'three', '...</td>\n",
       "      <td>1</td>\n",
       "    </tr>\n",
       "    <tr>\n",
       "      <th>883635</th>\n",
       "      <td>['ordered', 'wa', 'slightly', 'small', 'worked...</td>\n",
       "      <td>1</td>\n",
       "    </tr>\n",
       "  </tbody>\n",
       "</table>\n",
       "<p>883636 rows × 2 columns</p>\n",
       "</div>"
      ],
      "text/plain": [
       "                                                   tokens  polarity\n",
       "0         ['exactly', 'needed', 'perfect', 'replacement']         1\n",
       "1       ['agree', 'review', 'opening', 'small', 'almos...        -1\n",
       "2       ['love', 'going', 'order', 'another', 'pack', ...         1\n",
       "3                      ['tiny', 'opening', 'two', 'star']        -1\n",
       "4                               ['okay', 'three', 'star']         1\n",
       "...                                                   ...       ...\n",
       "883631  ['absolutely', 'love', 'dress', 'sexy', 'comfo...         1\n",
       "883632  ['im', '56', '175lbs', 'im', 'tall', 'side', '...         1\n",
       "883633          ['big', 'chest', 'area', 'three', 'star']         1\n",
       "883634  ['clear', 'back', 'need', 'lining', 'three', '...         1\n",
       "883635  ['ordered', 'wa', 'slightly', 'small', 'worked...         1\n",
       "\n",
       "[883636 rows x 2 columns]"
      ]
     },
     "execution_count": 30,
     "metadata": {},
     "output_type": "execute_result"
    }
   ],
   "source": [
    "fullset=fullset[['tokens','polarity']]\n",
    "fullset\n"
   ]
  },
  {
   "cell_type": "code",
   "execution_count": 31,
   "metadata": {},
   "outputs": [],
   "source": [
    "train_x, test_x, train_y, test_y = train_test_split(fullset['tokens'], fullset['polarity'], train_size=0.8, random_state=1, stratify=fullset.polarity\n",
    "                                                   )\n"
   ]
  },
  {
   "cell_type": "code",
   "execution_count": 32,
   "metadata": {},
   "outputs": [
    {
     "name": "stdout",
     "output_type": "stream",
     "text": [
      "54392     1\n",
      "752425    1\n",
      "45742     1\n",
      "195061    1\n",
      "330645    1\n",
      "         ..\n",
      "10938    -1\n",
      "851797    1\n",
      "35809     1\n",
      "390426    1\n",
      "632060    1\n",
      "Name: polarity, Length: 706908, dtype: int64\n"
     ]
    }
   ],
   "source": [
    "print(train_y)"
   ]
  },
  {
   "cell_type": "markdown",
   "metadata": {},
   "source": [
    "# Feature Selection"
   ]
  },
  {
   "cell_type": "code",
   "execution_count": 33,
   "metadata": {},
   "outputs": [
    {
     "name": "stdout",
     "output_type": "stream",
     "text": [
      "No. of features: 200 \n",
      "CV_Errors: 0.1001926695633445 \n",
      "Time Spent: 89.40391659736633 s\n",
      "\n",
      "No. of features: 400 \n",
      "CV_Errors: 0.08921528668784295 \n",
      "Time Spent: 86.35339546203613 s\n",
      "\n",
      "No. of features: 600 \n",
      "CV_Errors: 0.0856773444294644 \n",
      "Time Spent: 87.92793321609497 s\n",
      "\n",
      "No. of features: 800 \n",
      "CV_Errors: 0.08481018635267235 \n",
      "Time Spent: 88.046546459198 s\n",
      "\n",
      "No. of features: 1000 \n",
      "CV_Errors: 0.08338567324568957 \n",
      "Time Spent: 86.06484508514404 s\n",
      "\n",
      "No. of features: 1200 \n",
      "CV_Errors: 0.08233886060045137 \n",
      "Time Spent: 87.86525392532349 s\n",
      "\n"
     ]
    }
   ],
   "source": [
    "# The number of unique tokens is 1226\n",
    "n_features = range(200, 1226+1, 200) # the first model has 200 feature, then 400, 600, etc\n",
    "cv_errors = []\n",
    "\n",
    "for p in n_features:\n",
    "    t0 = time()\n",
    "\n",
    "    count_vect_1n = CountVectorizer(analyzer='word', ngram_range=(1,3), token_pattern=r'\\w{1,}', max_features=p)\n",
    "    count_vect_1n.fit(train_x)\n",
    "    xtrain_count_1n = count_vect_1n.transform(train_x)\n",
    "    scores = cross_val_score(naive_bayes.BernoulliNB(), xtrain_count_1n, train_y, cv=5, scoring = 'accuracy') # 5-fold CV\n",
    "    err = 1-np.mean(scores)\n",
    "    cv_errors.append(err.copy())\n",
    "    print('No. of features:',p,'\\nCV_Errors:',err,'\\nTime Spent:',time()-t0,'s\\n')"
   ]
  },
  {
   "cell_type": "code",
   "execution_count": 34,
   "metadata": {},
   "outputs": [
    {
     "name": "stdout",
     "output_type": "stream",
     "text": [
      "[0.1001926695633445, 0.08921528668784295, 0.0856773444294644, 0.08481018635267235, 0.08338567324568957, 0.08233886060045137]\n"
     ]
    }
   ],
   "source": [
    "print(cv_errors)"
   ]
  },
  {
   "cell_type": "code",
   "execution_count": 35,
   "metadata": {},
   "outputs": [
    {
     "data": {
      "image/png": "[encoded data removed]",
      "text/plain": [
       "<Figure size 1152x648 with 1 Axes>"
      ]
     },
     "metadata": {
      "needs_background": "light"
     },
     "output_type": "display_data"
    },
    {
     "name": "stdout",
     "output_type": "stream",
     "text": [
      "Lowest CV error: K = 1200\n"
     ]
    }
   ],
   "source": [
    "fig, ax= plt.subplots(figsize=(16,9))\n",
    "ax.plot(n_features, cv_errors, label='CV error')\n",
    "ax.set_xlabel('Number of features')\n",
    "ax.set_ylabel('Misclassification rate')\n",
    "plt.legend()\n",
    "sns.despine()\n",
    "plt.show()\n",
    "print('Lowest CV error: K = {}'.format(n_features[np.argmin(cv_errors)]))"
   ]
  },
  {
   "cell_type": "code",
   "execution_count": 36,
   "metadata": {},
   "outputs": [],
   "source": [
    "errors_op = pd.DataFrame()\n",
    "errors_op['The Number of features'] = list(n_features)\n",
    "errors_op['5-fold CV errors'] = cv_errors\n",
    "errors_op.to_csv('./[ML]cv_errors.csv',index=0)"
   ]
  },
  {
   "cell_type": "code",
   "execution_count": 37,
   "metadata": {},
   "outputs": [
    {
     "data": {
      "text/plain": [
       "10938     ['son', '2', 'year', 'old', 'bought', 'size', ...\n",
       "851797    ['daughter', 'love', 'shoe', 'got', 'little', ...\n",
       "35809     ['excelente', 'producto', 'lo', 'recibi', 'tie...\n",
       "390426    ['beautiful', 'dress', 'fit', 'perfectly', 'fi...\n",
       "632060    ['cute', 'design', 'pattern', 'run', 'small', ...\n",
       "Name: tokens, dtype: object"
      ]
     },
     "execution_count": 37,
     "metadata": {},
     "output_type": "execute_result"
    }
   ],
   "source": [
    "train_x.tail()"
   ]
  },
  {
   "cell_type": "markdown",
   "metadata": {},
   "source": [
    "# Count Vectors + N-gram"
   ]
  },
  {
   "cell_type": "code",
   "execution_count": 38,
   "metadata": {},
   "outputs": [
    {
     "name": "stdout",
     "output_type": "stream",
     "text": [
      "# CV + 3-gram: 69.28290224075317\n"
     ]
    }
   ],
   "source": [
    "t0 = time()\n",
    "count_vect_3n = CountVectorizer(analyzer='word', ngram_range=(1,3), token_pattern=r'\\w{1,}', max_features=1000)\n",
    "count_vect_3n.fit(fullset['tokens'])\n",
    "print('# CV + 3-gram:', time()-t0)"
   ]
  },
  {
   "cell_type": "code",
   "execution_count": 39,
   "metadata": {},
   "outputs": [
    {
     "name": "stdout",
     "output_type": "stream",
     "text": [
      "# Finish CV 3n: 39.47945594787598\n"
     ]
    }
   ],
   "source": [
    "# Transform the training and testing data using count vectorizer object\n",
    "t0 = time()\n",
    "xtrain_count_3n = count_vect_3n.transform(train_x)\n",
    "xvalid_count_3n = count_vect_3n.transform(test_x)\n",
    "print('# Finish CV 3n:', time()-t0)"
   ]
  },
  {
   "cell_type": "code",
   "execution_count": 40,
   "metadata": {},
   "outputs": [
    {
     "data": {
      "text/plain": [
       "<706908x1000 sparse matrix of type '<class 'numpy.int64'>'\n",
       "\twith 9188316 stored elements in Compressed Sparse Row format>"
      ]
     },
     "execution_count": 40,
     "metadata": {},
     "output_type": "execute_result"
    }
   ],
   "source": [
    "xtrain_count_3n"
   ]
  },
  {
   "cell_type": "code",
   "execution_count": 41,
   "metadata": {},
   "outputs": [
    {
     "data": {
      "text/plain": [
       "<176728x1000 sparse matrix of type '<class 'numpy.int64'>'\n",
       "\twith 2293912 stored elements in Compressed Sparse Row format>"
      ]
     },
     "execution_count": 41,
     "metadata": {},
     "output_type": "execute_result"
    }
   ],
   "source": [
    "xvalid_count_3n"
   ]
  },
  {
   "cell_type": "code",
   "execution_count": 42,
   "metadata": {},
   "outputs": [
    {
     "name": "stdout",
     "output_type": "stream",
     "text": [
      "  (0, 279)\t1\n",
      "  (0, 323)\t1\n",
      "  (0, 341)\t1\n",
      "  (0, 344)\t1\n",
      "  (0, 351)\t1\n",
      "  (0, 493)\t1\n",
      "  (0, 558)\t1\n",
      "  (0, 651)\t1\n",
      "  (0, 673)\t1\n",
      "  (0, 680)\t1\n",
      "  (0, 826)\t1\n",
      "  (0, 912)\t1\n",
      "  (0, 923)\t1\n"
     ]
    }
   ],
   "source": [
    "\n",
    "print(xtrain_count_3n[0])"
   ]
  },
  {
   "cell_type": "markdown",
   "metadata": {},
   "source": [
    "# TF-IDF Vectors + N-gram"
   ]
  },
  {
   "cell_type": "code",
   "execution_count": 43,
   "metadata": {},
   "outputs": [
    {
     "name": "stdout",
     "output_type": "stream",
     "text": [
      "# TF-IDF + 3-gram: 65.2883608341217\n"
     ]
    }
   ],
   "source": [
    "t0 = time()\n",
    "tfidf_vect_3n = TfidfVectorizer(analyzer='word', ngram_range=(1,3), token_pattern=r'\\w{1,}', max_features=1000)\n",
    "tfidf_vect_3n.fit(fullset['tokens'])\n",
    "print('# TF-IDF + 3-gram:', time()-t0)"
   ]
  },
  {
   "cell_type": "code",
   "execution_count": 44,
   "metadata": {},
   "outputs": [
    {
     "name": "stdout",
     "output_type": "stream",
     "text": [
      "# Finish TF-IDF 3n: 41.445258378982544\n"
     ]
    }
   ],
   "source": [
    "t0 = time()\n",
    "xtrain_tfidf_3n = tfidf_vect_3n.transform(train_x)\n",
    "xvalid_tfidf_3n = tfidf_vect_3n.transform(test_x)\n",
    "print('# Finish TF-IDF 3n:', time()-t0)"
   ]
  },
  {
   "cell_type": "code",
   "execution_count": 45,
   "metadata": {},
   "outputs": [
    {
     "data": {
      "text/plain": [
       "<706908x1000 sparse matrix of type '<class 'numpy.float64'>'\n",
       "\twith 9188316 stored elements in Compressed Sparse Row format>"
      ]
     },
     "execution_count": 45,
     "metadata": {},
     "output_type": "execute_result"
    }
   ],
   "source": [
    "xtrain_tfidf_3n"
   ]
  },
  {
   "cell_type": "code",
   "execution_count": 46,
   "metadata": {},
   "outputs": [
    {
     "data": {
      "text/plain": [
       "<176728x1000 sparse matrix of type '<class 'numpy.float64'>'\n",
       "\twith 2293912 stored elements in Compressed Sparse Row format>"
      ]
     },
     "execution_count": 46,
     "metadata": {},
     "output_type": "execute_result"
    }
   ],
   "source": [
    "xvalid_tfidf_3n"
   ]
  },
  {
   "cell_type": "code",
   "execution_count": 47,
   "metadata": {},
   "outputs": [
    {
     "name": "stdout",
     "output_type": "stream",
     "text": [
      "  (0, 923)\t0.3435299954039766\n",
      "  (0, 912)\t0.153899475852404\n",
      "  (0, 826)\t0.2964218727851381\n",
      "  (0, 680)\t0.4021352955680074\n",
      "  (0, 673)\t0.19277241993322516\n",
      "  (0, 651)\t0.2149602886741565\n",
      "  (0, 558)\t0.18609817464266734\n",
      "  (0, 493)\t0.25720218055367144\n",
      "  (0, 351)\t0.2770695442766134\n",
      "  (0, 344)\t0.18302042450851252\n",
      "  (0, 341)\t0.2663928055114344\n",
      "  (0, 323)\t0.38072331415339977\n",
      "  (0, 279)\t0.31367079905733936\n"
     ]
    }
   ],
   "source": [
    "print(xtrain_tfidf_3n[0])"
   ]
  },
  {
   "cell_type": "code",
   "execution_count": 48,
   "metadata": {},
   "outputs": [
    {
     "name": "stdout",
     "output_type": "stream",
     "text": [
      "239403                             ['cute', 'five', 'star']\n",
      "534290    ['three', 'watch', 'bought', 'one', 'came', 'e...\n",
      "546291    ['niceheavier', 'expected', 'nice', 'heavier',...\n",
      "622619    ['great', 'purse', 'strap', 'bit', 'thin', 'wo...\n",
      "816582    ['perfect', 'pam', 'poovey', 'costume', 'five'...\n",
      "                                ...                        \n",
      "836446    ['expected', 'full', 'rear', 'coverage', 'cont...\n",
      "621061                           ['nice', 'jacket', 'nice']\n",
      "88570     ['cant', 'think', 'anything', 'else', 'say', '...\n",
      "262087    ['color', 'true', 'copper', 'tone', 'fit', 'pe...\n",
      "794926    ['decent', 'quality', 'shirt', 'fading', 'shri...\n",
      "Name: tokens, Length: 176728, dtype: object\n"
     ]
    }
   ],
   "source": [
    "print(test_x)"
   ]
  },
  {
   "cell_type": "markdown",
   "metadata": {},
   "source": [
    "# ML-Count Vetors\n"
   ]
  },
  {
   "cell_type": "code",
   "execution_count": 49,
   "metadata": {},
   "outputs": [],
   "source": [
    "def train_model(classifier, feature_vector_train, label, feature_vector_valid, is_not_svm=True):\n",
    "    # fit the training dataset on the classifier\n",
    "    trm = classifier.fit(feature_vector_train, label)\n",
    "    \n",
    "    # predict the labels on validation dataset\n",
    "    predictions = trm.predict(feature_vector_valid)\n",
    "    \n",
    "    # Here is wrong, the predictions and real label are reversed.\n",
    "    # In the dissertation, the results are corrected.\n",
    "    print(confusion_matrix(predictions,test_y))\n",
    "    print('Accuracy:', accuracy_score(predictions, test_y).round(4))\n",
    "    print('Precision:', precision_score(predictions, test_y).round(4))\n",
    "    print('Recall:', recall_score(predictions, test_y).round(4))\n",
    "    print('F1 Score:', f1_score(predictions, test_y).round(4))\n",
    "\n",
    "    \n",
    "    \n",
    "    if is_not_svm:\n",
    "        prob = trm.predict_proba(feature_vector_valid)\n",
    "        fpr, tpr, _ = roc_curve(test_y, prob[:,1])\n",
    "        auc = roc_auc_score(test_y, prob[:,1])\n",
    "\n",
    "        fig, ax= plt.subplots(figsize=(8,6))\n",
    "        ax.plot(fpr, tpr, label='ROC curve (AUC = {:.4f})'.format(auc))\n",
    "        ax.set_xlabel('False positive rate')\n",
    "        ax.set_ylabel('True Positive Rate')\n",
    "        ax.set_title('ROC curve', fontsize=14)\n",
    "        sns.despine()\n",
    "        plt.legend()\n",
    "        plt.show()"
   ]
  },
  {
   "cell_type": "code",
   "execution_count": 50,
   "metadata": {},
   "outputs": [
    {
     "name": "stdout",
     "output_type": "stream",
     "text": [
      "[[ 29045   9477]\n",
      " [  5315 132891]]\n",
      "Accuracy: 0.9163\n",
      "Precision: 0.9334\n",
      "Recall: 0.9615\n",
      "F1 Score: 0.9473\n"
     ]
    },
    {
     "data": {
      "image/png": "[encoded data removed]",
      "text/plain": [
       "<Figure size 576x432 with 1 Axes>"
      ]
     },
     "metadata": {
      "needs_background": "light"
     },
     "output_type": "display_data"
    },
    {
     "name": "stdout",
     "output_type": "stream",
     "text": [
      "# Naive Bayes + Count Vectors + 3-gram 1.5698320865631104 \n",
      "\n"
     ]
    }
   ],
   "source": [
    "t0 = time()\n",
    "train_model(naive_bayes.BernoulliNB(), xtrain_count_3n, train_y, xvalid_count_3n)\n",
    "print(\"# Naive Bayes + Count Vectors + 3-gram\", time()-t0, '\\n')"
   ]
  },
  {
   "cell_type": "code",
   "execution_count": 51,
   "metadata": {},
   "outputs": [
    {
     "name": "stdout",
     "output_type": "stream",
     "text": [
      "[[ 26740   3939]\n",
      " [  7620 138429]]\n",
      "Accuracy: 0.9346\n",
      "Precision: 0.9723\n",
      "Recall: 0.9478\n",
      "F1 Score: 0.9599\n"
     ]
    },
    {
     "data": {
      "image/png": "[encoded data removed]",
      "text/plain": [
       "<Figure size 576x432 with 1 Axes>"
      ]
     },
     "metadata": {
      "needs_background": "light"
     },
     "output_type": "display_data"
    },
    {
     "name": "stdout",
     "output_type": "stream",
     "text": [
      "\n",
      "Logistic Regression + Count Vectors + 3-gram 11.194096565246582 \n",
      "\n"
     ]
    }
   ],
   "source": [
    "t0 = time()\n",
    "train_model(linear_model.LogisticRegression(), xtrain_count_3n, train_y, xvalid_count_3n)\n",
    "print(\"\\nLogistic Regression + Count Vectors + 3-gram\", time()-t0, '\\n')"
   ]
  },
  {
   "cell_type": "code",
   "execution_count": 52,
   "metadata": {},
   "outputs": [
    {
     "name": "stdout",
     "output_type": "stream",
     "text": [
      "[[ 26279   3649]\n",
      " [  8081 138719]]\n",
      "Accuracy: 0.9336\n",
      "Precision: 0.9744\n",
      "Recall: 0.945\n",
      "F1 Score: 0.9594\n",
      "# SVM + Count Vectors + 3-gram 121.6057755947113 \n",
      "\n"
     ]
    }
   ],
   "source": [
    "t0 = time()\n",
    "train_model(svm.LinearSVC(), xtrain_count_3n, train_y, xvalid_count_3n, is_not_svm=False)\n",
    "print(\"# SVM + Count Vectors + 3-gram\", time()-t0, '\\n')"
   ]
  },
  {
   "cell_type": "markdown",
   "metadata": {},
   "source": [
    "# ML-TF-IDF"
   ]
  },
  {
   "cell_type": "code",
   "execution_count": 53,
   "metadata": {},
   "outputs": [
    {
     "name": "stdout",
     "output_type": "stream",
     "text": [
      "[[ 29045   9477]\n",
      " [  5315 132891]]\n",
      "Accuracy: 0.9163\n",
      "Precision: 0.9334\n",
      "Recall: 0.9615\n",
      "F1 Score: 0.9473\n"
     ]
    },
    {
     "data": {
      "image/png": "[encoded data removed]",
      "text/plain": [
       "<Figure size 576x432 with 1 Axes>"
      ]
     },
     "metadata": {
      "needs_background": "light"
     },
     "output_type": "display_data"
    },
    {
     "name": "stdout",
     "output_type": "stream",
     "text": [
      "# Naive Bayes + TF-IDF + 3-gram 1.0561997890472412 \n",
      "\n"
     ]
    }
   ],
   "source": [
    "t0 = time()\n",
    "train_model(naive_bayes.BernoulliNB(), xtrain_tfidf_3n, train_y, xvalid_tfidf_3n)\n",
    "print(\"# Naive Bayes + TF-IDF + 3-gram\", time()-t0, '\\n')"
   ]
  },
  {
   "cell_type": "code",
   "execution_count": 54,
   "metadata": {},
   "outputs": [
    {
     "name": "stdout",
     "output_type": "stream",
     "text": [
      "[[ 27145   4009]\n",
      " [  7215 138359]]\n",
      "Accuracy: 0.9365\n",
      "Precision: 0.9718\n",
      "Recall: 0.9504\n",
      "F1 Score: 0.961\n"
     ]
    },
    {
     "data": {
      "image/png": "[encoded data removed]",
      "text/plain": [
       "<Figure size 576x432 with 1 Axes>"
      ]
     },
     "metadata": {
      "needs_background": "light"
     },
     "output_type": "display_data"
    },
    {
     "name": "stdout",
     "output_type": "stream",
     "text": [
      "\n",
      "Logistic Regression + TF-IDF + 3-gram 10.62374496459961 \n",
      "\n"
     ]
    }
   ],
   "source": [
    "t0 = time()\n",
    "train_model(linear_model.LogisticRegression(), xtrain_tfidf_3n, train_y, xvalid_tfidf_3n)\n",
    "print(\"\\nLogistic Regression + TF-IDF + 3-gram\", time()-t0, '\\n')"
   ]
  },
  {
   "cell_type": "code",
   "execution_count": 55,
   "metadata": {},
   "outputs": [
    {
     "name": "stdout",
     "output_type": "stream",
     "text": [
      "[[ 27019   3880]\n",
      " [  7341 138488]]\n",
      "Accuracy: 0.9365\n",
      "Precision: 0.9727\n",
      "Recall: 0.9497\n",
      "F1 Score: 0.9611\n",
      "# SVM + TF-IDF + 3-gram 6.722994565963745 \n",
      "\n"
     ]
    }
   ],
   "source": [
    "t0 = time()\n",
    "train_model(svm.LinearSVC(), xtrain_tfidf_3n, train_y, xvalid_tfidf_3n, is_not_svm=False)\n",
    "print(\"# SVM + TF-IDF + 3-gram\", time()-t0, '\\n')"
   ]
  },
  {
   "cell_type": "code",
   "execution_count": null,
   "metadata": {},
   "outputs": [],
   "source": []
  }
 ],
 "metadata": {
  "kernelspec": {
   "display_name": "Python 3",
   "language": "python",
   "name": "python3"
  },
  "language_info": {
   "codemirror_mode": {
    "name": "ipython",
    "version": 3
   },
   "file_extension": ".py",
   "mimetype": "text/x-python",
   "name": "python",
   "nbconvert_exporter": "python",
   "pygments_lexer": "ipython3",
   "version": "3.7.6"
  }
 },
 "nbformat": 4,
 "nbformat_minor": 4
}
